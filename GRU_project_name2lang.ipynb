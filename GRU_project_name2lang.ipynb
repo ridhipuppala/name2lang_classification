{
  "nbformat": 4,
  "nbformat_minor": 0,
  "metadata": {
    "colab": {
      "name": "GRU_project_name2lang.ipynb",
      "provenance": []
    },
    "kernelspec": {
      "name": "python3",
      "display_name": "Python 3"
    }
  },
  "cells": [
    {
      "cell_type": "markdown",
      "metadata": {
        "id": "TGRstXQSOvi2"
      },
      "source": [
        "# Setup"
      ]
    },
    {
      "cell_type": "code",
      "metadata": {
        "id": "Byr-IPrcOVNe",
        "outputId": "0c993deb-69cf-404e-8aaa-2d74fd4d9f1c",
        "colab": {
          "base_uri": "https://localhost:8080/",
          "height": 34
        }
      },
      "source": [
        "from io import open\n",
        "import os, string, random, time, math\n",
        "import matplotlib.pyplot as plt;plt.style.use('ggplot')\n",
        "import seaborn as sns\n",
        "import numpy as np\n",
        "from sklearn.model_selection import train_test_split\n",
        "import torch\n",
        "import torch.nn as nn\n",
        "import torch.optim as optim\n",
        "from IPython.display import clear_output\n",
        "from sklearn.metrics import confusion_matrix\n",
        "import warnings\n",
        "warnings.filterwarnings(\"ignore\")\n",
        "device = torch.device(\"cuda:0\" if torch.cuda.is_available() else \"cpu\")\n",
        "print(device)\n",
        "from torch.utils.data import DataLoader\n",
        "import copy "
      ],
      "execution_count": null,
      "outputs": [
        {
          "output_type": "stream",
          "text": [
            "cpu\n"
          ],
          "name": "stdout"
        }
      ]
    },
    {
      "cell_type": "markdown",
      "metadata": {
        "id": "_Vc1ENLUO1GL"
      },
      "source": [
        "# Data"
      ]
    },
    {
      "cell_type": "code",
      "metadata": {
        "id": "dsDB2-K5Ot-9"
      },
      "source": [
        "languages = []\n",
        "data = []\n",
        "X = []\n",
        "Y = []\n",
        "\n",
        "with open('name2lang.txt', 'r') as f: \n",
        "    for line in f:\n",
        "        line = line.split(',')\n",
        "        name = line[0].strip()\n",
        "        lang = line[1].strip()\n",
        "        if not lang in languages:\n",
        "            languages.append(lang)\n",
        "        X.append(name)\n",
        "        Y.append(lang)\n",
        "        data.append((name, lang))\n",
        "n_languages = len(languages)\n",
        "\n",
        "def lang_rep(lang):\n",
        "    return torch.tensor([languages.index(lang)], dtype=torch.long)\n",
        "\n",
        "def name_rep(name):\n",
        "    rep = torch.zeros(len(name), 1, n_letters)\n",
        "    for index, letter in enumerate(name):\n",
        "        pos = all_letters.find(letter)\n",
        "        rep[index][0][pos] = 1\n",
        "    return rep\n",
        "\n",
        "all_letters = string.ascii_letters + \" .,;'\";n_letters = len(all_letters)\n",
        "\n",
        "def infer(net, name):\n",
        "    name_ohe = name_rep(name)\n",
        "    hidden = net.init_hidden()\n",
        "    \n",
        "    for i in range(name_ohe.size()[0]):\n",
        "        output, hidden = net(name_ohe[i], hidden)\n",
        "    \n",
        "    return output\n"
      ],
      "execution_count": null,
      "outputs": []
    },
    {
      "cell_type": "code",
      "metadata": {
        "id": "c8DfYQqiPHtv",
        "outputId": "5f7a3738-8c88-4551-b165-1198f87099a0",
        "colab": {
          "base_uri": "https://localhost:8080/",
          "height": 34
        }
      },
      "source": [
        "X_train, X_test, Y_train, Y_test = train_test_split(X, Y, test_size=0.2, random_state=0, stratify=Y)\n",
        "print(len(X_train),len(X_test),len(Y_train),len(Y_test))\n",
        "trainset = []\n",
        "for x,y in zip(X_train,Y_train):\n",
        "    trainset.append([x,y])"
      ],
      "execution_count": null,
      "outputs": [
        {
          "output_type": "stream",
          "text": [
            "16040 4010 16040 4010\n"
          ],
          "name": "stdout"
        }
      ]
    },
    {
      "cell_type": "code",
      "metadata": {
        "id": "-EudKdZbYv-q"
      },
      "source": [
        "class GRU_net(nn.Module):\n",
        "    def __init__(self, input_size, hidden_size, output_size):\n",
        "        super(GRU_net, self).__init__()\n",
        "        self.hidden_size = hidden_size\n",
        "        self.gru_cell = nn.GRU(input_size, hidden_size)\n",
        "        self.h2o = nn.Linear(hidden_size, output_size)\n",
        "        self.softmax = nn.LogSoftmax(dim=2)\n",
        "    \n",
        "    def forward(self, input_, hidden):\n",
        "      #for input, arg1,arg2,arg3 -> #charcters, #batches, #encoding size of each character (basically the size of a single character's OHE)\n",
        "        out, hidden = self.gru_cell(input_.view(1, 1, -1), hidden)\n",
        "        output = self.h2o(hidden)\n",
        "        output = self.softmax(output)\n",
        "        return output.view(1, -1), hidden\n",
        "    \n",
        "    def init_hidden(self):\n",
        "      #Here arg1, arg2, arg3 -> #layers, #batches, #hidden_size of neurons\n",
        "        return torch.zeros(1, 1, self.hidden_size,device=device)\n",
        "        \n",
        "##########################################################################################################################\n",
        "\n",
        "n_hidden = 128\n",
        "net = GRU_net(n_letters, n_hidden, n_languages)\n",
        "net = net.to(device)\n",
        "best_model = copy.deepcopy(net.state_dict())"
      ],
      "execution_count": null,
      "outputs": []
    },
    {
      "cell_type": "code",
      "metadata": {
        "id": "09VtTOlFSSql"
      },
      "source": [
        "def train_setup(net, lr = 0.01, batch_size = 64, momentum = 0.9, k = 1, display_freq=1):\n",
        "\n",
        "    criterion = nn.NLLLoss();min_loss = 1000\n",
        "    opt = optim.SGD(net.parameters(), lr=lr, momentum=momentum)\n",
        "    trainloader = DataLoader(trainset, batch_size=batch_size, shuffle=True)\n",
        "    fig, ax = plt.subplots(2, 2)\n",
        "\n",
        "    for btch,data in enumerate(trainloader):\n",
        "\n",
        "        # Train Mini-Batch Pass\n",
        "        count = 0\n",
        "        net.train();opt.zero_grad();train_loss,train_acc =0.0,0.0\n",
        "        for i_btch in range (len(data[0])):\n",
        "            #Forward\n",
        "            name, lang = name_rep(data[0][i_btch]), lang_rep(data[1][i_btch])\n",
        "            name_ohe, lang_ohe = name.to(device), lang.to(device)\n",
        "\n",
        "            hidden = net.init_hidden();hidden.to(device)\n",
        "            for i in range(name_ohe.size()[0]):\n",
        "                output, hidden = net(name_ohe[i], hidden)\n",
        "            loss = criterion(output, lang_ohe)\n",
        "            if min_loss > loss.item():\n",
        "                min_loss = loss.item()\n",
        "                best_model = copy.deepcopy(net.state_dict())\n",
        "\n",
        "            loss.backward(retain_graph=True)\n",
        "            train_loss += loss.item()\n",
        "            val, indices = output.topk(k)\n",
        "            count+=1\n",
        "            if lang_ohe in indices:\n",
        "                train_acc +=1\n",
        "\n",
        "        opt.step()\n",
        "        train_loss /= batch_size;train_acc /= batch_size\n",
        "        del name, lang, name_ohe, lang_ohe, hidden, output, val, indices    \n",
        "\n",
        "        #Test Full-Batch Pass\n",
        "        with torch.no_grad():\n",
        "            net.eval()\n",
        "            test_loss,test_acc = 0,0\n",
        "            for name,lang in zip(X_test,Y_test):\n",
        "                output = infer(net, name)\n",
        "                test_loss += criterion(output, lang_rep(lang)).item()\n",
        "                val, indices = output.topk(k)\n",
        "                if lang_rep(lang) in indices:\n",
        "                    test_acc +=1\n",
        "\n",
        "            test_loss /= len(Y_test)\n",
        "            test_acc /= len(Y_test)\n",
        "        train_losses.append(train_loss);train_accuracies.append(train_acc)\n",
        "        test_losses.append(test_loss);test_accuracies.append(test_acc)\n",
        "\n",
        "        # Plotting\n",
        "        if not (btch%display_freq):\n",
        "            clear_output(wait=True)\n",
        "            fig, ax = plt.subplots(2,figsize=(5,8));ax = ax.flatten()\n",
        "            print(\"Batch: \",btch,\"Train Loss: \",round(train_loss,5),\"Train Acc: \",round(train_acc,3) ,\"Test Loss: \",round(test_loss,5), \"Test Acc: \",round(test_acc,3))\n",
        "            ax[0].plot(train_losses,'r',label = \"Train\");ax[0].plot(test_losses,'g',label = \"Test\")\n",
        "            ax[1].plot(train_accuracies,'r',label = \"Train\");ax[1].plot(test_accuracies,'g',label = \"Test\")\n",
        "            ax[0].set_xlabel('Iteration');ax[0].set_ylabel('Loss');ax[1].set_xlabel('Iteration');ax[1].set_ylabel('Top-k acc')\n",
        "            ax[0].legend();ax[1].legend();plt.show();print('\\n\\n')\n",
        "\n",
        "        del name, lang, output, val, indices, train_loss, train_acc, test_loss, test_acc\n",
        "\n",
        "########################################################################################################################"
      ],
      "execution_count": null,
      "outputs": []
    },
    {
      "cell_type": "code",
      "metadata": {
        "id": "TRc_ujoaUm0r"
      },
      "source": [
        "# checkpoint = {'model': GRU_net(),'state_dict': best_model.state_dict(),'optimizer' : opt.state_dict()}\n",
        "checkpoint = {'state_dict': best_model}\n",
        "torch.save(checkpoint, 'checkpoint.pth')\n",
        "def load_checkpoint(filepath):\n",
        "    checkpoint = torch.load(filepath)\n",
        "    #net = checkpoint['model']\n",
        "    net.load_state_dict(checkpoint['state_dict'])\n",
        "    # for parameter in model.parameters():\n",
        "    #     parameter.requires_grad = False\n",
        "    # net.eval()\n",
        "    return net\n"
      ],
      "execution_count": null,
      "outputs": []
    },
    {
      "cell_type": "code",
      "metadata": {
        "id": "Y-Key8WijvDp",
        "outputId": "358e82d4-dad1-4716-f638-fa23eef26627",
        "colab": {
          "base_uri": "https://localhost:8080/",
          "height": 102
        }
      },
      "source": [
        "net = load_checkpoint('checkpoint.pth')\n",
        "print(net)"
      ],
      "execution_count": null,
      "outputs": [
        {
          "output_type": "stream",
          "text": [
            "GRU_net(\n",
            "  (gru_cell): GRU(57, 128)\n",
            "  (h2o): Linear(in_features=128, out_features=18, bias=True)\n",
            "  (softmax): LogSoftmax(dim=2)\n",
            ")\n"
          ],
          "name": "stdout"
        }
      ]
    },
    {
      "cell_type": "code",
      "metadata": {
        "id": "iiy5szV-SWfS",
        "outputId": "438b7e87-6444-48da-a61a-22a2329f09d8",
        "colab": {
          "base_uri": "https://localhost:8080/",
          "height": 568
        }
      },
      "source": [
        "train_losses, test_losses, train_accuracies, test_accuracies = [],[],[],[]\n",
        "train_setup(net, lr=0.0015, batch_size = 256,momentum = 0.9, k = 1, display_freq=5)"
      ],
      "execution_count": null,
      "outputs": [
        {
          "output_type": "stream",
          "text": [
            "Batch:  60 Train Loss:  1.33295 Train Acc:  0.605 Test Loss:  1.16968 Test Acc:  0.649\n"
          ],
          "name": "stdout"
        },
        {
          "output_type": "display_data",
          "data": {
            "image/png": "[encoded data removed]",
            "text/plain": [
              "<Figure size 360x576 with 2 Axes>"
            ]
          },
          "metadata": {
            "tags": []
          }
        },
        {
          "output_type": "stream",
          "text": [
            "\n",
            "\n",
            "\n"
          ],
          "name": "stdout"
        }
      ]
    },
    {
      "cell_type": "code",
      "metadata": {
        "id": "aQGwcvE4mn8q"
      },
      "source": [
        "def compare_models(dict1, dict2):\n",
        "    models_differ = 0\n",
        "    for key_item_1, key_item_2 in zip(dict1.items(), dict2.items()):\n",
        "        if torch.equal(key_item_1[1], key_item_2[1]):\n",
        "            pass\n",
        "        else:\n",
        "            models_differ += 1\n",
        "            if (key_item_1[0] == key_item_2[0]):\n",
        "                print('Mismtach found at', key_item_1[0])\n",
        "            else:\n",
        "                raise Exception\n",
        "    if models_differ == 0:\n",
        "        print('Models match perfectly! :)')"
      ],
      "execution_count": null,
      "outputs": []
    },
    {
      "cell_type": "code",
      "metadata": {
        "id": "xITre0y1nRLV",
        "outputId": "f2c3c9a6-9bda-4b7f-8074-ad2af38788b0",
        "colab": {
          "base_uri": "https://localhost:8080/",
          "height": 34
        }
      },
      "source": [
        "compare_models(best_model,net.state_dict())"
      ],
      "execution_count": null,
      "outputs": [
        {
          "output_type": "stream",
          "text": [
            "Models match perfectly! :)\n"
          ],
          "name": "stdout"
        }
      ]
    },
    {
      "cell_type": "code",
      "metadata": {
        "id": "zr8RhsrknZ-_"
      },
      "source": [
        ""
      ],
      "execution_count": null,
      "outputs": []
    }
  ]
}